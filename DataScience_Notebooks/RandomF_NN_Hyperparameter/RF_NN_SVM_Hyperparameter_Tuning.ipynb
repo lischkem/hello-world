{
 "cells": [
  {
   "cell_type": "code",
   "execution_count": 117,
   "metadata": {},
   "outputs": [
    {
     "name": "stdout",
     "output_type": "stream",
     "text": [
      "['data_ausw_bi.csv', 'Einsteiger-Kurs_7.pdf', 'lettersdata.csv', 'skript.R']\n"
     ]
    }
   ],
   "source": [
    "import numpy as np # linear algebra\n",
    "import pandas as pd # data processing, CSV file I/O (e.g. pd.read_csv)\n",
    "import matplotlib.pyplot as plt # plot data, visualizations\n",
    "import seaborn as sns #visualization with seaborn\n",
    "import scipy.stats as st\n",
    "import warnings\n",
    "\n",
    "from time import time\n",
    "from pandas import Series\n",
    "#ensemble classifier\n",
    "from sklearn.ensemble import RandomForestClassifier, RandomForestRegressor\n",
    "#Classification and Regression Algorithms\n",
    "from sklearn.linear_model import LogisticRegression, LinearRegression, Lasso, Ridge\n",
    "from sklearn.neural_network import MLPClassifier, MLPRegressor\n",
    "from sklearn.svm import SVC, SVR\n",
    "# split data into train and test dataset\n",
    "from sklearn.model_selection import train_test_split, StratifiedKFold, KFold, RandomizedSearchCV\n",
    "from sklearn.metrics import mean_squared_error, confusion_matrix, accuracy_score # Model Evaluation\n",
    "\n",
    "import sys\n",
    "import os\n",
    "#kaggle Data source\n",
    "#print(os.listdir(\"../input\"))\n",
    "print(os.listdir(\"D:\\DataScience@DKB\\RandomF_NN_Hyperparameter\")) # Files for analysis"
   ]
  },
  {
   "cell_type": "code",
   "execution_count": 13,
   "metadata": {},
   "outputs": [
    {
     "name": "stdout",
     "output_type": "stream",
     "text": [
      "Dataset Letters for Classification\n",
      "  lettr  xbox  ybox  width  high  onpix  xbar  ybar  x2bar  y2bar  xybar  \\\n",
      "1     T     2     8      3     5      1     8    13      0      6      6   \n",
      "2     I     5    12      3     7      2    10     5      5      4     13   \n",
      "3     D     4    11      6     8      6    10     6      2      6     10   \n",
      "4     N     7    11      6     6      3     5     9      4      6      4   \n",
      "5     G     2     1      3     1      1     8     6      6      6      6   \n",
      "\n",
      "   x2ybr  xy2br  xege  xegvy  yege  yegvx  \n",
      "1     10      8     0      8     0      8  \n",
      "2      3      9     2      8     4     10  \n",
      "3      3      7     3      7     3      9  \n",
      "4      4     10     6     10     2      8  \n",
      "5      5      9     1      7     5     10  \n",
      "Dataset Auswertungen BI for Regression\n",
      "       Dauer  Zieldauer  Stufe  Art  werbe     kunde     daten  adresse  \\\n",
      "0   1.844444  10.257639      0    1    0.0  0.066667  0.133333      0.0   \n",
      "1   2.988194  13.499306      1    1    0.0  0.027778  0.000000      0.0   \n",
      "2   1.972222   4.513194      1    1    0.0  0.047619  0.000000      0.0   \n",
      "3   7.944444  12.407639      1    1    0.0  0.040000  0.000000      0.0   \n",
      "4  13.022222  19.520833      0    0    0.0  0.042254  0.000000      0.0   \n",
      "\n",
      "       pers     karte    ...     status      darl  liste  feld  world  \\\n",
      "0  0.066667  0.000000    ...        0.0  0.000000    0.0   0.0    0.0   \n",
      "1  0.000000  0.027778    ...        0.0  0.000000    0.0   0.0    0.0   \n",
      "2  0.000000  0.000000    ...        0.0  0.047619    0.0   0.0    0.0   \n",
      "3  0.000000  0.000000    ...        0.0  0.000000    0.0   0.0    0.0   \n",
      "4  0.000000  0.000000    ...        0.0  0.000000    0.0   0.0    0.0   \n",
      "\n",
      "   kontoinhaber  auswertung  inhaber    person    nummer  \n",
      "0           0.0    0.000000      0.0  0.066667  0.000000  \n",
      "1           0.0    0.000000      0.0  0.000000  0.027778  \n",
      "2           0.0    0.000000      0.0  0.000000  0.000000  \n",
      "3           0.0    0.000000      0.0  0.000000  0.040000  \n",
      "4           0.0    0.042254      0.0  0.000000  0.000000  \n",
      "\n",
      "[5 rows x 104 columns]\n"
     ]
    }
   ],
   "source": [
    "#load data and print first 5 rows\n",
    "#df = pd.read_csv('../input/lettersdata.csv', index_col=0)\n",
    "df_c = pd.read_csv('D:\\DataScience@DKB\\RandomF_NN_Hyperparameter\\lettersdata.csv', index_col=0)\n",
    "print('Dataset Letters for Classification')\n",
    "print(df_c.head(5))\n",
    "\n",
    "df_r = pd.read_csv('D:\\DataScience@DKB\\RandomF_NN_Hyperparameter\\data_ausw_bi.csv')\n",
    "print('Dataset Auswertungen BI for Regression')\n",
    "print(df_r.head(5))"
   ]
  },
  {
   "cell_type": "markdown",
   "metadata": {},
   "source": [
    "## Data Preparation"
   ]
  },
  {
   "cell_type": "code",
   "execution_count": 14,
   "metadata": {},
   "outputs": [
    {
     "name": "stdout",
     "output_type": "stream",
     "text": [
      "   lettr  xbox  ybox  width  high  onpix  xbar  ybar  x2bar  y2bar  xybar  \\\n",
      "2      I     5    12      3     7      2    10     5      5      4     13   \n",
      "8      A     1     1      3     2      1     8     2      2      2      8   \n",
      "10     M    11    15     13     9      7    13     2      6      2     12   \n",
      "14     M     6     9      8     6      9     7     8      6      5      7   \n",
      "27     M     7    11     11     8      9     3     8      4      5     10   \n",
      "31     L     2     3      3     4      1     0     1      5      6      0   \n",
      "32     L     1     3      3     1      1     6     4      1      7      8   \n",
      "35     M     6     9      9     7      6     5     6      3      5     10   \n",
      "52     L     3     6      3     4      1     1     0      6      6      0   \n",
      "60     L     5    10      6     8      5     9     3      2      6      9   \n",
      "\n",
      "    x2ybr  xy2br  xege  xegvy  yege  yegvx  \n",
      "2       3      9     2      8     4     10  \n",
      "8       2      8     1      6     2      7  \n",
      "10      1      9     8      1     1      8  \n",
      "14      5      8     8      9     8      6  \n",
      "27     11     10    10      9     5      7  \n",
      "31      0      6     0      8     0      8  \n",
      "32      3     10     0      7     2      9  \n",
      "35      9      9     8      5     2      7  \n",
      "52      1      5     0      8     0      8  \n",
      "60      2      9     2      5     3      9  \n"
     ]
    }
   ],
   "source": [
    "#select first two letters of name 'MALI'\n",
    "#show data types\n",
    "df_c.dtypes\n",
    "\n",
    "#copy data to new df with selected rows\n",
    "\n",
    "df_c1 = df_c.copy()\n",
    "\n",
    "df_c1 = df_c1.loc[df_c1['lettr'].isin(['M','A','L','I'])]\n",
    "\n",
    "print(df_c1.head(10))"
   ]
  },
  {
   "cell_type": "code",
   "execution_count": 15,
   "metadata": {},
   "outputs": [
    {
     "name": "stdout",
     "output_type": "stream",
     "text": [
      "       Dauer  werbe     kunde     daten  adresse      pers     karte  \\\n",
      "0   1.844444    0.0  0.066667  0.133333      0.0  0.066667  0.000000   \n",
      "1   2.988194    0.0  0.027778  0.000000      0.0  0.000000  0.027778   \n",
      "2   1.972222    0.0  0.047619  0.000000      0.0  0.000000  0.000000   \n",
      "3   7.944444    0.0  0.040000  0.000000      0.0  0.000000  0.000000   \n",
      "4  13.022222    0.0  0.042254  0.000000      0.0  0.000000  0.000000   \n",
      "\n",
      "       cash     aktiv     konto  Zieldauer  Art  \n",
      "0  0.000000  0.000000  0.000000  10.257639    1  \n",
      "1  0.055556  0.000000  0.055556  13.499306    1  \n",
      "2  0.047619  0.047619  0.000000   4.513194    1  \n",
      "3  0.000000  0.000000  0.000000  12.407639    1  \n",
      "4  0.042254  0.000000  0.000000  19.520833    0  \n"
     ]
    }
   ],
   "source": [
    "#show data types\n",
    "df_r.dtypes\n",
    "\n",
    "#copy data to new df with selected columns\n",
    "df_r1 = df_r.copy()\n",
    "\n",
    "df_r1 = df_r1[['Dauer','werbe','kunde','daten','adresse','pers','karte','cash','aktiv','konto','Zieldauer','Art']]\n",
    "\n",
    "print(df_r1.head(5))"
   ]
  },
  {
   "cell_type": "code",
   "execution_count": 17,
   "metadata": {
    "scrolled": true
   },
   "outputs": [
    {
     "name": "stdout",
     "output_type": "stream",
     "text": [
      "Shape X ausw bi  (115, 11)\n",
      "Shape X lettr  (3097, 16)\n",
      "Shape y ausw bi  (115, 1)\n",
      "Shape y lettr  (3097, 1)\n",
      "Dataset Auswertung BI for Regression\n",
      "   werbe     kunde     daten  adresse      pers     karte      cash  aktiv  \\\n",
      "0    0.0  0.066667  0.133333      0.0  0.066667  0.000000  0.000000    0.0   \n",
      "1    0.0  0.027778  0.000000      0.0  0.000000  0.027778  0.055556    0.0   \n",
      "\n",
      "      konto  Zieldauer  Art  \n",
      "0  0.000000  10.257639    1  \n",
      "1  0.055556  13.499306    1  \n",
      "      Dauer\n",
      "0  1.844444\n",
      "1  2.988194\n",
      "Dataset Letters for Classification\n",
      "   xbox  ybox  width  high  onpix  xbar  ybar  x2bar  y2bar  xybar  x2ybr  \\\n",
      "2     5    12      3     7      2    10     5      5      4     13      3   \n",
      "8     1     1      3     2      1     8     2      2      2      8      2   \n",
      "\n",
      "   xy2br  xege  xegvy  yege  yegvx  \n",
      "2      9     2      8     4     10  \n",
      "8      8     1      6     2      7  \n",
      "  lettr\n",
      "2     I\n",
      "8     A\n"
     ]
    }
   ],
   "source": [
    "#subset data in target (dependent variable) and dimensions (independent variabes) \n",
    "Xr = df_r1.drop(['Dauer'],axis=1)\n",
    "Xc = df_c1.drop(['lettr'], axis=1)\n",
    "print('Shape X ausw bi ', Xr.shape)\n",
    "print('Shape X lettr ',Xc.shape)\n",
    "\n",
    "yr = df_r1[['Dauer']]\n",
    "yc = df_c1[['lettr']]\n",
    "print('Shape y ausw bi ',yr.shape)\n",
    "print('Shape y lettr ', yc.shape)\n",
    "\n",
    "print('Dataset Auswertung BI for Regression')\n",
    "print(Xr.head(2))\n",
    "print(yr.head(2))\n",
    "\n",
    "print('Dataset Letters for Classification')\n",
    "print(Xc.head(2))\n",
    "print(yc.head(2))"
   ]
  },
  {
   "cell_type": "markdown",
   "metadata": {},
   "source": [
    "## Regression Analysis on Dataset 'Auswertung BI'"
   ]
  },
  {
   "cell_type": "code",
   "execution_count": 33,
   "metadata": {},
   "outputs": [
    {
     "name": "stdout",
     "output_type": "stream",
     "text": [
      "    werbe  kunde  daten  adresse  pers  karte  cash  aktiv  konto  Zieldauer  \\\n",
      "97    0.0   0.08   0.04      0.0   0.0    0.0   0.0    0.0    0.0      6.625   \n",
      "\n",
      "    Art  \n",
      "97    0  \n",
      "    werbe     kunde     daten  adresse  pers  karte  cash  aktiv  konto  \\\n",
      "39    0.0  0.066667  0.066667      0.0   0.0    0.0   0.0    0.0    0.0   \n",
      "\n",
      "    Zieldauer  Art  \n",
      "39   6.528472    1  \n",
      "        Dauer\n",
      "97  13.007639\n",
      "        Dauer\n",
      "39  45.104167\n",
      "(80, 1)\n"
     ]
    }
   ],
   "source": [
    "#set seed\n",
    "seed = 47\n",
    "#divide data into train and test (scikit-learn function train_test_split)\n",
    "Xr_train, Xr_test, yr_train, yr_test = train_test_split(Xr, yr, \n",
    "                                                    test_size = 0.3, #Testsize\n",
    "                                                    random_state = seed) \n",
    "\n",
    "print(Xr_train.head(1))\n",
    "print(Xr_test.head(1))\n",
    "print(yr_train.head(1))\n",
    "print(yr_test.head(1))\n",
    "\n",
    "#print(yr_train.shape)"
   ]
  },
  {
   "cell_type": "markdown",
   "metadata": {},
   "source": [
    "### Linear, Lasso and Ridge Regression"
   ]
  },
  {
   "cell_type": "code",
   "execution_count": 22,
   "metadata": {},
   "outputs": [
    {
     "data": {
      "text/plain": [
       "Ridge(alpha=1.0, copy_X=True, fit_intercept=True, max_iter=None,\n",
       "   normalize=False, random_state=None, solver='auto', tol=0.001)"
      ]
     },
     "execution_count": 22,
     "metadata": {},
     "output_type": "execute_result"
    }
   ],
   "source": [
    "#Linear (multivariate) Regression\n",
    "lm = LinearRegression()\n",
    "#train model\n",
    "lm.fit(Xr_train, yr_train)\n",
    "#Lasso Regression\n",
    "ls = Lasso(alpha=0.1)\n",
    "#train model\n",
    "ls.fit(Xr_train, yr_train)\n",
    "#Ridge Regression\n",
    "lr = Ridge(alpha=1.0)\n",
    "#train linear model\n",
    "lr.fit(Xr_train, yr_train)\n",
    "\n"
   ]
  },
  {
   "cell_type": "code",
   "execution_count": 25,
   "metadata": {},
   "outputs": [],
   "source": [
    "#Predict y on test data\n",
    "y_pred = lm.predict(Xr_test)\n",
    "#print(y_pred)\n",
    "y_pred_ls = ls.predict(Xr_test)\n",
    "\n",
    "y_pred_lr = lr.predict(Xr_test)\n"
   ]
  },
  {
   "cell_type": "code",
   "execution_count": 26,
   "metadata": {},
   "outputs": [
    {
     "name": "stdout",
     "output_type": "stream",
     "text": [
      "-----------------------------------------------\n",
      "Model Evaluation\n",
      "-----------------------------------------------\n",
      "++++Linear Regression++++\n",
      "-----------------------------------------------\n",
      "Mean Squared Error\n",
      "-----------------------------------------------\n",
      "MSE lm: 429.1505287075861\n",
      "-----------------------------------------------\n",
      "Root Mean Squared Error\n",
      "-----------------------------------------------\n",
      "RMSE lm: 20.71594865574797\n",
      "-----------------------------------------------\n",
      "++++Lasso Regression++++\n",
      "-----------------------------------------------\n",
      "Mean Squared Error\n",
      "-----------------------------------------------\n",
      "MSE ls: 396.5500564213089\n",
      "-----------------------------------------------\n",
      "Root Mean Squared Error\n",
      "-----------------------------------------------\n",
      "RMSE ls: 19.91356463371912\n",
      "-----------------------------------------------\n",
      "++++Ridge Regression++++\n",
      "-----------------------------------------------\n",
      "Mean Squared Error\n",
      "-----------------------------------------------\n",
      "MSE lr: 387.8186295039633\n",
      "-----------------------------------------------\n",
      "Root Mean Squared Error\n",
      "-----------------------------------------------\n",
      "RMSE lr: 19.693111219509305\n",
      "-----------------------------------------------\n"
     ]
    }
   ],
   "source": [
    "#Model Evaluation\n",
    "#MSE\n",
    "print('-----------------------------------------------')\n",
    "print('Model Evaluation')\n",
    "print('-----------------------------------------------')\n",
    "print('++++Linear Regression++++')\n",
    "print('-----------------------------------------------')\n",
    "print('Mean Squared Error')\n",
    "print('-----------------------------------------------')\n",
    "print('MSE lm:', mean_squared_error(yr_test, y_pred))\n",
    "print('-----------------------------------------------')\n",
    "print('Root Mean Squared Error')\n",
    "print('-----------------------------------------------')\n",
    "print('RMSE lm:',np.sqrt(mean_squared_error(yr_test, y_pred)))\n",
    "print('-----------------------------------------------')\n",
    "\n",
    "print('++++Lasso Regression++++')\n",
    "print('-----------------------------------------------')\n",
    "print('Mean Squared Error')\n",
    "print('-----------------------------------------------')\n",
    "print('MSE ls:', mean_squared_error(yr_test, y_pred_ls))\n",
    "print('-----------------------------------------------')\n",
    "print('Root Mean Squared Error')\n",
    "print('-----------------------------------------------')\n",
    "print('RMSE ls:',np.sqrt(mean_squared_error(yr_test, y_pred_ls)))\n",
    "print('-----------------------------------------------')\n",
    "\n",
    "print('++++Ridge Regression++++')\n",
    "print('-----------------------------------------------')\n",
    "print('Mean Squared Error')\n",
    "print('-----------------------------------------------')\n",
    "print('MSE lr:', mean_squared_error(yr_test, y_pred_lr))\n",
    "print('-----------------------------------------------')\n",
    "print('Root Mean Squared Error')\n",
    "print('-----------------------------------------------')\n",
    "print('RMSE lr:',np.sqrt(mean_squared_error(yr_test, y_pred_lr)))\n",
    "print('-----------------------------------------------')"
   ]
  },
  {
   "cell_type": "markdown",
   "metadata": {},
   "source": [
    "### Neural Network"
   ]
  },
  {
   "cell_type": "code",
   "execution_count": 148,
   "metadata": {},
   "outputs": [
    {
     "data": {
      "text/plain": [
       "MLPRegressor(activation='relu', alpha=0.0001, batch_size='auto', beta_1=0.9,\n",
       "       beta_2=0.999, early_stopping=False, epsilon=1e-08,\n",
       "       hidden_layer_sizes=(100,), learning_rate='constant',\n",
       "       learning_rate_init=0.001, max_iter=200, momentum=0.9,\n",
       "       nesterovs_momentum=True, power_t=0.5, random_state=47, shuffle=True,\n",
       "       solver='adam', tol=0.0001, validation_fraction=0.1, verbose=False,\n",
       "       warm_start=False)"
      ]
     },
     "execution_count": 148,
     "metadata": {},
     "output_type": "execute_result"
    }
   ],
   "source": [
    "#neural network (MLPRegressor with default parameters)\n",
    "mlp = MLPRegressor(random_state=seed)\n",
    "\n",
    "#train model\n",
    "mlp.fit(Xr_train, yr_train.values.ravel())"
   ]
  },
  {
   "cell_type": "code",
   "execution_count": 46,
   "metadata": {},
   "outputs": [
    {
     "name": "stdout",
     "output_type": "stream",
     "text": [
      "[11.29750954 10.93838497 11.33336944 18.24221848  4.99190685 15.93094766\n",
      " 23.37480029 11.05806615 34.30131199  9.98573525 11.62257892 22.96885414\n",
      "  4.86580647 24.29523279  8.61307743 12.24401912  8.47049057 11.34472857\n",
      " 19.71804311  0.53430415 19.74368506 19.51946506 22.97370416 76.38566415\n",
      " 49.73349301 11.49366182 21.83652016  7.46606637 28.10991236 29.10916941\n",
      " 32.842324   34.21466018  3.51649683 17.14617559 18.64742103]\n"
     ]
    }
   ],
   "source": [
    "#Predict y on test data\n",
    "y_pred_mlp = mlp.predict(Xr_test)\n",
    "print(y_pred_mlp)"
   ]
  },
  {
   "cell_type": "code",
   "execution_count": 102,
   "metadata": {},
   "outputs": [
    {
     "name": "stdout",
     "output_type": "stream",
     "text": [
      "++++Neural Network++++\n",
      "-----------------------------------------------\n",
      "Mean Squared Error\n",
      "-----------------------------------------------\n",
      "MSE mlp: 443.3670342851078\n",
      "-----------------------------------------------\n",
      "Root Mean Squared Error\n",
      "-----------------------------------------------\n",
      "RMSE mlp: 21.056282537169466\n",
      "-----------------------------------------------\n"
     ]
    }
   ],
   "source": [
    "print('++++Neural Network++++')\n",
    "print('-----------------------------------------------')\n",
    "print('Mean Squared Error')\n",
    "print('-----------------------------------------------')\n",
    "print('MSE mlp:', mean_squared_error(yr_test, y_pred_mlp))\n",
    "print('-----------------------------------------------')\n",
    "print('Root Mean Squared Error')\n",
    "print('-----------------------------------------------')\n",
    "print('RMSE mlp:',np.sqrt(mean_squared_error(yr_test, y_pred_mlp)))\n",
    "print('-----------------------------------------------')"
   ]
  },
  {
   "cell_type": "markdown",
   "metadata": {},
   "source": [
    "### Random Forest"
   ]
  },
  {
   "cell_type": "code",
   "execution_count": 149,
   "metadata": {},
   "outputs": [
    {
     "data": {
      "text/plain": [
       "RandomForestRegressor(bootstrap=True, criterion='mse', max_depth=None,\n",
       "           max_features='auto', max_leaf_nodes=None,\n",
       "           min_impurity_decrease=0.0, min_impurity_split=None,\n",
       "           min_samples_leaf=1, min_samples_split=2,\n",
       "           min_weight_fraction_leaf=0.0, n_estimators=10, n_jobs=1,\n",
       "           oob_score=False, random_state=47, verbose=0, warm_start=False)"
      ]
     },
     "execution_count": 149,
     "metadata": {},
     "output_type": "execute_result"
    }
   ],
   "source": [
    "#random forest (with default parameters)\n",
    "rfr = RandomForestRegressor(random_state=seed)\n",
    "\n",
    "#train model\n",
    "rfr.fit(Xr_train, yr_train.values.ravel())"
   ]
  },
  {
   "cell_type": "code",
   "execution_count": 54,
   "metadata": {},
   "outputs": [
    {
     "name": "stdout",
     "output_type": "stream",
     "text": [
      "[33.85395833 29.58305556 37.54763889 36.51416667  2.36798611 26.12506944\n",
      " 45.039375   32.78       49.88048611 39.17444444 23.71479167 30.29027778\n",
      "  3.55055556 33.92076389 31.72138889 28.90138889 13.68736111 29.12326389\n",
      " 30.39076389 14.40645833 15.77291667 36.23402778 10.91055556 21.57326389\n",
      " 20.21361111 51.92673611 45.34993056  8.09763889 24.47298611 35.77569444\n",
      " 26.85986111 38.36555556  0.82826389 37.07541667 21.98006944]\n"
     ]
    }
   ],
   "source": [
    "#Predict y on test data\n",
    "y_pred_rfr = rfr.predict(Xr_test)\n",
    "print(y_pred_rfr)"
   ]
  },
  {
   "cell_type": "code",
   "execution_count": 103,
   "metadata": {},
   "outputs": [
    {
     "name": "stdout",
     "output_type": "stream",
     "text": [
      "++++Random Forest++++\n",
      "-----------------------------------------------\n",
      "Mean Squared Error\n",
      "-----------------------------------------------\n",
      "MSE rfr: 460.4571943430334\n",
      "-----------------------------------------------\n",
      "Root Mean Squared Error\n",
      "-----------------------------------------------\n",
      "RMSE rfr: 21.45826634057452\n",
      "-----------------------------------------------\n"
     ]
    }
   ],
   "source": [
    "print('++++Random Forest++++')\n",
    "print('-----------------------------------------------')\n",
    "print('Mean Squared Error')\n",
    "print('-----------------------------------------------')\n",
    "print('MSE rfr:', mean_squared_error(yr_test, y_pred_rfr))\n",
    "print('-----------------------------------------------')\n",
    "print('Root Mean Squared Error')\n",
    "print('-----------------------------------------------')\n",
    "print('RMSE rfr:',np.sqrt(mean_squared_error(yr_test, y_pred_rfr)))\n",
    "print('-----------------------------------------------')"
   ]
  },
  {
   "cell_type": "markdown",
   "metadata": {},
   "source": [
    "### SVM"
   ]
  },
  {
   "cell_type": "code",
   "execution_count": 151,
   "metadata": {},
   "outputs": [
    {
     "data": {
      "text/plain": [
       "SVR(C=1.0, cache_size=200, coef0=0.0, degree=3, epsilon=0.1, gamma='auto',\n",
       "  kernel='rbf', max_iter=-1, shrinking=True, tol=0.001, verbose=False)"
      ]
     },
     "execution_count": 151,
     "metadata": {},
     "output_type": "execute_result"
    }
   ],
   "source": [
    "#svm (with default parameters)\n",
    "svm_r = SVR()\n",
    "\n",
    "#train model\n",
    "svm_r.fit(Xr_train, yr_train.values.ravel())"
   ]
  },
  {
   "cell_type": "code",
   "execution_count": 60,
   "metadata": {},
   "outputs": [
    {
     "name": "stdout",
     "output_type": "stream",
     "text": [
      "[27.29312138 27.15783315 27.15646224 32.14092374 25.31720254 30.35188651\n",
      " 30.63326881 27.23339311 30.95427313 27.30422889 27.41054341 30.65834745\n",
      " 24.68237014 30.654915   26.16997413 28.14752191 24.9829873  27.4056232\n",
      " 32.24773729 27.1779896  32.2434562  32.25652467 30.94291436 31.98605438\n",
      " 31.75686697 27.31455477 31.18182513 24.61293496 31.61838724 31.41835206\n",
      " 30.47113326 30.95024654 26.22031056 31.30979472 32.14071203]\n"
     ]
    }
   ],
   "source": [
    "#Predict y on test data\n",
    "y_pred_svr = svm_r.predict(Xr_test)\n",
    "print(y_pred_svr)"
   ]
  },
  {
   "cell_type": "code",
   "execution_count": 104,
   "metadata": {},
   "outputs": [
    {
     "name": "stdout",
     "output_type": "stream",
     "text": [
      "++++SVM++++\n",
      "-----------------------------------------------\n",
      "Mean Squared Error\n",
      "-----------------------------------------------\n",
      "MSE svr: 441.99998250105006\n",
      "-----------------------------------------------\n",
      "Root Mean Squared Error\n",
      "-----------------------------------------------\n",
      "RMSE svr: 21.02379562545855\n",
      "-----------------------------------------------\n"
     ]
    }
   ],
   "source": [
    "print('++++SVM++++')\n",
    "print('-----------------------------------------------')\n",
    "print('Mean Squared Error')\n",
    "print('-----------------------------------------------')\n",
    "print('MSE svr:', mean_squared_error(yr_test, y_pred_svr))\n",
    "print('-----------------------------------------------')\n",
    "print('Root Mean Squared Error')\n",
    "print('-----------------------------------------------')\n",
    "print('RMSE svr:',np.sqrt(mean_squared_error(yr_test, y_pred_svr)))\n",
    "print('-----------------------------------------------')"
   ]
  },
  {
   "cell_type": "markdown",
   "metadata": {},
   "source": [
    "## Hyperparamter Selection"
   ]
  },
  {
   "cell_type": "code",
   "execution_count": 92,
   "metadata": {},
   "outputs": [
    {
     "name": "stdout",
     "output_type": "stream",
     "text": [
      "KFold(n_splits=10, random_state=47, shuffle=False)\n"
     ]
    }
   ],
   "source": [
    "#create folds (10) for CV\n",
    "Kf = KFold(n_splits=10, random_state=seed)\n",
    "print(Kf)"
   ]
  },
  {
   "cell_type": "code",
   "execution_count": 64,
   "metadata": {},
   "outputs": [],
   "source": [
    "#Function to print the 3 best solutions (from scikit-learn.org)\n",
    "def report(results, n_top=3):\n",
    "    for i in range(1, n_top + 1):\n",
    "        candidates = np.flatnonzero(results['rank_test_score'] == i)\n",
    "        for candidate in candidates:\n",
    "            print(\"Model with rank: {0}\".format(i))\n",
    "            print(\"Mean validation score: {0:.3f} (std: {1:.3f})\".format(\n",
    "                  results['mean_test_score'][candidate],\n",
    "                  results['std_test_score'][candidate]))\n",
    "            print(\"Parameters: {0}\".format(results['params'][candidate]))\n",
    "            print(\"\")"
   ]
  },
  {
   "cell_type": "code",
   "execution_count": 130,
   "metadata": {},
   "outputs": [],
   "source": [
    "#create dicts with parameters for RF, NN, SVM\n",
    "\n",
    "param_dist_rf = {\n",
    "                'n_estimators'          : st.randint(200, 1000),\n",
    "                'max_features'          : ['auto','sqrt','log2'],\n",
    "                'max_depth'             : st.randint(2, 100),\n",
    "                'min_samples_split'     : st.randint(2, 100),\n",
    "                'min_samples_leaf'      : st.randint(2, 100),\n",
    "                'criterion'             : ['mse', 'mae'],\n",
    "                'min_impurity_decrease' : st.randint(0, 2)}\n",
    "\n",
    "param_dist_nn = {\n",
    "                'hidden_layer_sizes'    : st.randint(2, 150),\n",
    "                'activation'            : ['logistic','tanh','relu'],\n",
    "                'solver'                : ['adam','lbfgs','sgd'],\n",
    "                'learning_rate'         : ['constant','invscaling','adaptive'],\n",
    "                'learning_rate_init'    : st.uniform(0.001, 0.01)\n",
    "                }\n",
    "\n",
    "param_dist_svm = {\n",
    "                 'C'                    : st.uniform(0.5, 2.0),\n",
    "                 'epsilon'              : st.uniform(0.1, 0.5),\n",
    "                 'kernel'               : ['rbf','poly','linear']\n",
    "                 }"
   ]
  },
  {
   "cell_type": "code",
   "execution_count": 133,
   "metadata": {},
   "outputs": [],
   "source": [
    "#randomized search RF\n",
    "n_iter_search = 20\n",
    "random_search_rf = RandomizedSearchCV(rfr, param_distributions=param_dist_rf, \n",
    "                                   n_iter=n_iter_search, cv=Kf, random_state=seed)\n",
    "\n",
    "#randomized search NN\n",
    "n_iter_search = 20\n",
    "random_search_nn = RandomizedSearchCV(mlp, param_distributions=param_dist_nn, \n",
    "                                   n_iter=n_iter_search, cv=Kf, random_state=seed)\n",
    "\n",
    "#randomized search SVM\n",
    "n_iter_search = 20\n",
    "random_search_svm = RandomizedSearchCV(svm_r, param_distributions=param_dist_svm, \n",
    "                                   n_iter=n_iter_search, cv=Kf, random_state=seed)\n"
   ]
  },
  {
   "cell_type": "code",
   "execution_count": 135,
   "metadata": {},
   "outputs": [
    {
     "name": "stdout",
     "output_type": "stream",
     "text": [
      "RandomizedSearchCV took 96.61 seconds for 20 candidates parameter settings.\n",
      "Model with rank: 1\n",
      "Mean validation score: -0.397 (std: 0.455)\n",
      "Parameters: {'criterion': 'mae', 'max_depth': 82, 'max_features': 'sqrt', 'min_impurity_decrease': 1, 'min_samples_leaf': 57, 'min_samples_split': 52, 'n_estimators': 930}\n",
      "\n",
      "Model with rank: 2\n",
      "Mean validation score: -0.399 (std: 0.471)\n",
      "Parameters: {'criterion': 'mae', 'max_depth': 60, 'max_features': 'auto', 'min_impurity_decrease': 1, 'min_samples_leaf': 24, 'min_samples_split': 21, 'n_estimators': 485}\n",
      "\n",
      "Model with rank: 3\n",
      "Mean validation score: -0.401 (std: 0.461)\n",
      "Parameters: {'criterion': 'mae', 'max_depth': 97, 'max_features': 'log2', 'min_impurity_decrease': 0, 'min_samples_leaf': 35, 'min_samples_split': 58, 'n_estimators': 684}\n",
      "\n",
      "++++Best Model: Random Forest++++\n",
      "Best Parameters {'criterion': 'mae', 'max_depth': 83, 'max_features': 'auto', 'min_impurity_decrease': 1, 'min_samples_leaf': 54, 'min_samples_split': 11, 'n_estimators': 926}\n",
      "Best Score -0.39329156683549005\n",
      "----------------------------------------\n",
      "++++Best Model: Neural Network++++\n",
      "Best Parameters {'activation': 'tanh', 'hidden_layer_sizes': 88, 'learning_rate': 'invscaling', 'learning_rate_init': 0.0016303873194121812, 'solver': 'adam'}\n",
      "Best Score -0.1817039693131445\n",
      "----------------------------------------\n",
      "++++Best Model: SVM++++\n",
      "Best Parameters {'C': 2.38451194529459, 'epsilon': 0.4724726488849802, 'kernel': 'linear'}\n",
      "Best Score -0.24518016701172893\n"
     ]
    }
   ],
   "source": [
    "#Random Forest\n",
    "start = time()\n",
    "random_search_rf.fit(Xr_train, yr_train.values.ravel())\n",
    "print(\"RandomizedSearchCV took %.2f seconds for %d candidates\"\n",
    "      \" parameter settings.\" % ((time() - start), n_iter_search))\n",
    "report(random_search.cv_results_)\n",
    "\n",
    "print('++++Best Model: Random Forest++++')\n",
    "print('Best Parameters', random_search_rf.best_params_)\n",
    "print('Best Score', random_search_rf.best_score_)\n",
    "\n",
    "print('----------------------------------------')\n",
    "\n",
    "#Neural Network\n",
    "#ignore convergence warning for max_iter=200\n",
    "warnings.filterwarnings(\"ignore\", category=UserWarning)\n",
    "random_search_nn.fit(Xr_train, yr_train.values.ravel())\n",
    "print('++++Best Model: Neural Network++++')\n",
    "print('Best Parameters', random_search_nn.best_params_)\n",
    "print('Best Score', random_search_nn.best_score_)\n",
    "\n",
    "print('----------------------------------------')\n",
    "\n",
    "#SVM\n",
    "random_search_svm.fit(Xr_train, yr_train.values.ravel())\n",
    "print('++++Best Model: SVM++++')\n",
    "print('Best Parameters', random_search_svm.best_params_)\n",
    "print('Best Score', random_search_svm.best_score_)\n"
   ]
  },
  {
   "cell_type": "markdown",
   "metadata": {},
   "source": [
    "### RF, NN, SVM with Hyperparameter Tuning"
   ]
  },
  {
   "cell_type": "code",
   "execution_count": 138,
   "metadata": {},
   "outputs": [
    {
     "data": {
      "text/plain": [
       "MLPRegressor(activation='tanh', alpha=0.0001, batch_size='auto', beta_1=0.9,\n",
       "       beta_2=0.999, early_stopping=False, epsilon=1e-08,\n",
       "       hidden_layer_sizes=88, learning_rate='invscaling',\n",
       "       learning_rate_init=0.0016303873194121812, max_iter=200,\n",
       "       momentum=0.9, nesterovs_momentum=True, power_t=0.5,\n",
       "       random_state=None, shuffle=True, solver='adam', tol=0.0001,\n",
       "       validation_fraction=0.1, verbose=False, warm_start=False)"
      ]
     },
     "execution_count": 138,
     "metadata": {},
     "output_type": "execute_result"
    }
   ],
   "source": [
    "#neural network (MLPRegressor with selected best model parameters)\n",
    "mlp_hp = MLPRegressor(**random_search_nn.best_params_)\n",
    "\n",
    "#train model\n",
    "mlp_hp.fit(Xr_train, yr_train.values.ravel())\n",
    "\n"
   ]
  },
  {
   "cell_type": "code",
   "execution_count": 139,
   "metadata": {},
   "outputs": [],
   "source": [
    "#Predict y on test data\n",
    "y_pred_mlp_hp = mlp_hp.predict(Xr_test)\n",
    "#print(y_pred_mlp_hp)"
   ]
  },
  {
   "cell_type": "code",
   "execution_count": 141,
   "metadata": {},
   "outputs": [
    {
     "data": {
      "text/plain": [
       "RandomForestRegressor(bootstrap=True, criterion='mae', max_depth=83,\n",
       "           max_features='auto', max_leaf_nodes=None,\n",
       "           min_impurity_decrease=1, min_impurity_split=None,\n",
       "           min_samples_leaf=54, min_samples_split=11,\n",
       "           min_weight_fraction_leaf=0.0, n_estimators=926, n_jobs=1,\n",
       "           oob_score=False, random_state=None, verbose=0, warm_start=False)"
      ]
     },
     "execution_count": 141,
     "metadata": {},
     "output_type": "execute_result"
    }
   ],
   "source": [
    "#random forest (with selected best model parameters)\n",
    "rfr_hp = RandomForestRegressor(**random_search_rf.best_params_)\n",
    "\n",
    "#train model\n",
    "rfr_hp.fit(Xr_train, yr_train.values.ravel())"
   ]
  },
  {
   "cell_type": "code",
   "execution_count": 142,
   "metadata": {},
   "outputs": [],
   "source": [
    "#Predict y on test data\n",
    "y_pred_rfr_hp = rfr_hp.predict(Xr_test)\n",
    "#print(y_pred_rfr)"
   ]
  },
  {
   "cell_type": "code",
   "execution_count": 143,
   "metadata": {},
   "outputs": [
    {
     "data": {
      "text/plain": [
       "SVR(C=2.38451194529459, cache_size=200, coef0=0.0, degree=3,\n",
       "  epsilon=0.4724726488849802, gamma='auto', kernel='linear', max_iter=-1,\n",
       "  shrinking=True, tol=0.001, verbose=False)"
      ]
     },
     "execution_count": 143,
     "metadata": {},
     "output_type": "execute_result"
    }
   ],
   "source": [
    "#svm (with selected best model parameters)\n",
    "svm_r_hp = SVR(**random_search_svm.best_params_)\n",
    "\n",
    "#train model\n",
    "svm_r_hp.fit(Xr_train, yr_train.values.ravel())"
   ]
  },
  {
   "cell_type": "code",
   "execution_count": 144,
   "metadata": {},
   "outputs": [],
   "source": [
    "#Predict y on test data\n",
    "y_pred_svr_hp = svm_r_hp.predict(Xr_test)\n",
    "#print(y_pred_svr)"
   ]
  },
  {
   "cell_type": "code",
   "execution_count": 146,
   "metadata": {},
   "outputs": [
    {
     "name": "stdout",
     "output_type": "stream",
     "text": [
      "++++Neural Network++++\n",
      "-----------------------------------------------\n",
      "Mean Squared Error\n",
      "-----------------------------------------------\n",
      "MSE mlp: 443.3670342851078\n",
      "MSE mlp_hp: 411.59886347284345\n",
      "-----------------------------------------------\n",
      "Root Mean Squared Error\n",
      "-----------------------------------------------\n",
      "RMSE mlp: 21.056282537169466\n",
      "RMSE mlp_hp: 20.28789943470845\n",
      "-----------------------------------------------\n",
      "++++Random Forest++++\n",
      "-----------------------------------------------\n",
      "Mean Squared Error\n",
      "-----------------------------------------------\n",
      "MSE rfr: 460.4571943430334\n",
      "MSE rfr_hp: 466.8995287884615\n",
      "-----------------------------------------------\n",
      "Root Mean Squared Error\n",
      "-----------------------------------------------\n",
      "RMSE rfr: 21.45826634057452\n",
      "RMSE rfr_hp: 21.607858033328096\n",
      "-----------------------------------------------\n",
      "++++SVM++++\n",
      "-----------------------------------------------\n",
      "Mean Squared Error\n",
      "-----------------------------------------------\n",
      "MSE svr: 441.99998250105006\n",
      "MSE svr_hp: 387.0738919927006\n",
      "-----------------------------------------------\n",
      "Root Mean Squared Error\n",
      "-----------------------------------------------\n",
      "RMSE svr: 21.02379562545855\n",
      "RMSE svr_hp: 19.67419355380801\n",
      "-----------------------------------------------\n"
     ]
    }
   ],
   "source": [
    "#Model Evaluation Compare\n",
    "\n",
    "print('++++Neural Network++++')\n",
    "print('-----------------------------------------------')\n",
    "print('Mean Squared Error')\n",
    "print('-----------------------------------------------')\n",
    "print('MSE mlp:', mean_squared_error(yr_test, y_pred_mlp))\n",
    "print('MSE mlp_hp:', mean_squared_error(yr_test, y_pred_mlp_hp))\n",
    "print('-----------------------------------------------')\n",
    "print('Root Mean Squared Error')\n",
    "print('-----------------------------------------------')\n",
    "print('RMSE mlp:',np.sqrt(mean_squared_error(yr_test, y_pred_mlp)))\n",
    "print('RMSE mlp_hp:',np.sqrt(mean_squared_error(yr_test, y_pred_mlp_hp)))\n",
    "print('-----------------------------------------------')\n",
    "\n",
    "print('++++Random Forest++++')\n",
    "print('-----------------------------------------------')\n",
    "print('Mean Squared Error')\n",
    "print('-----------------------------------------------')\n",
    "print('MSE rfr:', mean_squared_error(yr_test, y_pred_rfr))\n",
    "print('MSE rfr_hp:', mean_squared_error(yr_test, y_pred_rfr_hp))\n",
    "print('-----------------------------------------------')\n",
    "print('Root Mean Squared Error')\n",
    "print('-----------------------------------------------')\n",
    "print('RMSE rfr:',np.sqrt(mean_squared_error(yr_test, y_pred_rfr)))\n",
    "print('RMSE rfr_hp:',np.sqrt(mean_squared_error(yr_test, y_pred_rfr_hp)))\n",
    "print('-----------------------------------------------')\n",
    "\n",
    "print('++++SVM++++')\n",
    "print('-----------------------------------------------')\n",
    "print('Mean Squared Error')\n",
    "print('-----------------------------------------------')\n",
    "print('MSE svr:', mean_squared_error(yr_test, y_pred_svr))\n",
    "print('MSE svr_hp:', mean_squared_error(yr_test, y_pred_svr_hp))\n",
    "print('-----------------------------------------------')\n",
    "print('Root Mean Squared Error')\n",
    "print('-----------------------------------------------')\n",
    "print('RMSE svr:',np.sqrt(mean_squared_error(yr_test, y_pred_svr)))\n",
    "print('RMSE svr_hp:',np.sqrt(mean_squared_error(yr_test, y_pred_svr_hp)))\n",
    "print('-----------------------------------------------')"
   ]
  },
  {
   "cell_type": "markdown",
   "metadata": {},
   "source": [
    "## Classification Analysis on Dataset 'Letters'"
   ]
  },
  {
   "cell_type": "code",
   "execution_count": 147,
   "metadata": {},
   "outputs": [
    {
     "name": "stdout",
     "output_type": "stream",
     "text": [
      "       xbox  ybox  width  high  onpix  xbar  ybar  x2bar  y2bar  xybar  x2ybr  \\\n",
      "14967     5     9      8     7      8     8     7      6      5      6      7   \n",
      "\n",
      "       xy2br  xege  xegvy  yege  yegvx  \n",
      "14967      8     8      6     2      8  \n",
      "       xbox  ybox  width  high  onpix  xbar  ybar  x2bar  y2bar  xybar  x2ybr  \\\n",
      "12186     1    11      0     8      0     7     7      4      4      7      6   \n",
      "\n",
      "       xy2br  xege  xegvy  yege  yegvx  \n",
      "12186      8     0      8     0      8  \n",
      "      lettr\n",
      "14967     M\n",
      "      lettr\n",
      "12186     I\n"
     ]
    }
   ],
   "source": [
    "#divide data into train and test (scikit-learn function train_test_split)\n",
    "Xc_train, Xc_test, yc_train, yc_test = train_test_split(Xc, yc, \n",
    "                                                    test_size = 0.3, #Testsize\n",
    "                                                    random_state = seed) \n",
    "\n",
    "print(Xc_train.head(1))\n",
    "print(Xc_test.head(1))\n",
    "print(yc_train.head(1))\n",
    "print(yc_test.head(1))\n",
    "\n",
    "#print(yr_train.shape)"
   ]
  },
  {
   "cell_type": "code",
   "execution_count": 153,
   "metadata": {},
   "outputs": [
    {
     "name": "stdout",
     "output_type": "stream",
     "text": [
      "LogisticRegression 0.9698924731182795\n"
     ]
    },
    {
     "data": {
      "image/png": "[encoded data removed]",
      "text/plain": [
       "<Figure size 432x288 with 1 Axes>"
      ]
     },
     "metadata": {},
     "output_type": "display_data"
    },
    {
     "name": "stdout",
     "output_type": "stream",
     "text": [
      "RandomForestClassifier 0.986021505376344\n"
     ]
    },
    {
     "data": {
      "image/png": "[encoded data removed]",
      "text/plain": [
       "<Figure size 432x288 with 1 Axes>"
      ]
     },
     "metadata": {},
     "output_type": "display_data"
    },
    {
     "name": "stdout",
     "output_type": "stream",
     "text": [
      "SVC 0.9989247311827957\n"
     ]
    },
    {
     "data": {
      "image/png": "[encoded data removed]",
      "text/plain": [
       "<Figure size 432x288 with 1 Axes>"
      ]
     },
     "metadata": {},
     "output_type": "display_data"
    },
    {
     "name": "stdout",
     "output_type": "stream",
     "text": [
      "MLPClassifier 0.9881720430107527\n"
     ]
    },
    {
     "data": {
      "image/png": "[encoded data removed]",
      "text/plain": [
       "<Figure size 432x288 with 1 Axes>"
      ]
     },
     "metadata": {},
     "output_type": "display_data"
    }
   ],
   "source": [
    "#train and evaluate models (rf, lr, svm, nn)\n",
    "lr_clf = LogisticRegression(random_state=seed)\n",
    "rf_clf = RandomForestClassifier(random_state=seed)\n",
    "svm_clf = SVC(random_state=seed)\n",
    "mlp_clf = MLPClassifier(random_state=seed)\n",
    "\n",
    "for clf in (lr_clf, rf_clf, svm_clf, mlp_clf):\n",
    "    clf.fit(Xc_train, yc_train)\n",
    "    yc_pred = clf.predict(Xc_test)\n",
    "    print(clf.__class__.__name__, accuracy_score(yc_test, yc_pred))\n",
    "    #print(confusion_matrix(y_test, y_pred))\n",
    "    cm = confusion_matrix(yc_test, yc_pred)\n",
    "    plt.imshow(cm, interpolation='nearest', cmap=plt.cm.Pastel2)\n",
    "    classNames = ['M','A','L','I']\n",
    "    tick_marks = np.arange(len(classNames))\n",
    "    plt.xticks(tick_marks, classNames)\n",
    "    plt.yticks(tick_marks, classNames)\n",
    "    plt.ylabel('True')\n",
    "    plt.xlabel('Predicted')\n",
    "    for i in range(4):\n",
    "        for j in range(4):\n",
    "            plt.text(j, i, str(cm[i][j]))\n",
    "    plt.show()\n",
    "\n"
   ]
  },
  {
   "cell_type": "markdown",
   "metadata": {},
   "source": [
    "### Hyperparameter Selection (Classification)"
   ]
  },
  {
   "cell_type": "code",
   "execution_count": 162,
   "metadata": {},
   "outputs": [],
   "source": [
    "#create dicts with parameters for RF, NN, SVM\n",
    "\n",
    "param_dist_rf_clf = {\n",
    "                'n_estimators'          : st.randint(200, 1000),\n",
    "                'max_features'          : ['auto','sqrt','log2'],\n",
    "                'max_depth'             : st.randint(2, 100),\n",
    "                'min_samples_split'     : st.randint(2, 100),\n",
    "                'min_samples_leaf'      : st.randint(2, 100),\n",
    "                'criterion'             : ['gini', 'entropy'],\n",
    "                'min_impurity_decrease' : st.randint(0, 2)}\n",
    "\n",
    "param_dist_nn_clf = {\n",
    "                'hidden_layer_sizes'    : st.randint(2, 150),\n",
    "                'activation'            : ['logistic','tanh','relu'],\n",
    "                'solver'                : ['adam','lbfgs','sgd'],\n",
    "                'learning_rate'         : ['constant','invscaling','adaptive'],\n",
    "                'learning_rate_init'    : st.uniform(0.001, 0.01)\n",
    "                }\n",
    "\n",
    "param_dist_svm_clf = {\n",
    "                 'C'                    : st.uniform(0.5, 2.0),\n",
    "                 'kernel'               : ['rbf','poly','linear']\n",
    "                 }"
   ]
  },
  {
   "cell_type": "code",
   "execution_count": 163,
   "metadata": {},
   "outputs": [],
   "source": [
    "#randomized search RF\n",
    "n_iter_search = 20\n",
    "random_search_rf_clf = RandomizedSearchCV(rf_clf, param_distributions=param_dist_rf_clf, \n",
    "                                   n_iter=n_iter_search, cv=Kf, random_state=seed)\n",
    "\n",
    "#randomized search NN\n",
    "n_iter_search = 20\n",
    "random_search_nn_clf = RandomizedSearchCV(mlp_clf, param_distributions=param_dist_nn_clf, \n",
    "                                   n_iter=n_iter_search, cv=Kf, random_state=seed)\n",
    "\n",
    "#randomized search SVM\n",
    "n_iter_search = 20\n",
    "random_search_svm_clf = RandomizedSearchCV(svm_clf, param_distributions=param_dist_svm_clf, \n",
    "                                   n_iter=n_iter_search, cv=Kf, random_state=seed)\n"
   ]
  },
  {
   "cell_type": "code",
   "execution_count": 164,
   "metadata": {},
   "outputs": [
    {
     "name": "stdout",
     "output_type": "stream",
     "text": [
      "++++Best Model: Random Forest++++\n",
      "Best Parameters {'criterion': 'gini', 'max_depth': 77, 'max_features': 'log2', 'min_impurity_decrease': 0, 'min_samples_leaf': 18, 'min_samples_split': 61, 'n_estimators': 227}\n",
      "Best Score 0.957544993077988\n",
      "----------------------------------------\n",
      "++++Best Model: Neural Network++++\n",
      "Best Parameters {'activation': 'tanh', 'hidden_layer_sizes': 88, 'learning_rate': 'invscaling', 'learning_rate_init': 0.0016303873194121812, 'solver': 'adam'}\n",
      "Best Score 0.9898477157360406\n",
      "----------------------------------------\n",
      "++++Best Model: SVM++++\n",
      "Best Parameters {'C': 1.9574692670022125, 'kernel': 'rbf'}\n",
      "Best Score 0.9995385325334564\n"
     ]
    }
   ],
   "source": [
    "#Random Forest\n",
    "start = time()\n",
    "random_search_rf_clf.fit(Xc_train, yc_train)\n",
    "\n",
    "print('++++Best Model: Random Forest++++')\n",
    "print('Best Parameters', random_search_rf_clf.best_params_)\n",
    "print('Best Score', random_search_rf_clf.best_score_)\n",
    "\n",
    "print('----------------------------------------')\n",
    "\n",
    "#Neural Network\n",
    "#ignore convergence warning for max_iter=200\n",
    "warnings.filterwarnings(\"ignore\", category=UserWarning)\n",
    "random_search_nn_clf.fit(Xc_train, yc_train)\n",
    "print('++++Best Model: Neural Network++++')\n",
    "print('Best Parameters', random_search_nn_clf.best_params_)\n",
    "print('Best Score', random_search_nn_clf.best_score_)\n",
    "\n",
    "print('----------------------------------------')\n",
    "\n",
    "#SVM\n",
    "random_search_svm_clf.fit(Xc_train, yc_train)\n",
    "print('++++Best Model: SVM++++')\n",
    "print('Best Parameters', random_search_svm_clf.best_params_)\n",
    "print('Best Score', random_search_svm_clf.best_score_)"
   ]
  },
  {
   "cell_type": "markdown",
   "metadata": {},
   "source": [
    "### RF, NN, SVM with Hyperparameter Tuning"
   ]
  },
  {
   "cell_type": "code",
   "execution_count": 170,
   "metadata": {},
   "outputs": [
    {
     "data": {
      "text/plain": [
       "MLPClassifier(activation='tanh', alpha=0.0001, batch_size='auto', beta_1=0.9,\n",
       "       beta_2=0.999, early_stopping=False, epsilon=1e-08,\n",
       "       hidden_layer_sizes=88, learning_rate='invscaling',\n",
       "       learning_rate_init=0.0016303873194121812, max_iter=200,\n",
       "       momentum=0.9, nesterovs_momentum=True, power_t=0.5,\n",
       "       random_state=None, shuffle=True, solver='adam', tol=0.0001,\n",
       "       validation_fraction=0.1, verbose=False, warm_start=False)"
      ]
     },
     "execution_count": 170,
     "metadata": {},
     "output_type": "execute_result"
    }
   ],
   "source": [
    "#neural network (MLPClassifier with selected best model parameters)\n",
    "mlp_clf_hp = MLPClassifier(**random_search_nn_clf.best_params_)\n",
    "\n",
    "#train model\n",
    "mlp_clf_hp.fit(Xc_train, yc_train)\n"
   ]
  },
  {
   "cell_type": "code",
   "execution_count": 171,
   "metadata": {},
   "outputs": [],
   "source": [
    "#Predict y on test data\n",
    "y_pred_mlp_clf_hp = mlp_clf_hp.predict(Xc_test)\n",
    "#print(y_pred_mlp_hp)"
   ]
  },
  {
   "cell_type": "code",
   "execution_count": 172,
   "metadata": {},
   "outputs": [
    {
     "data": {
      "text/plain": [
       "RandomForestClassifier(bootstrap=True, class_weight=None, criterion='gini',\n",
       "            max_depth=77, max_features='log2', max_leaf_nodes=None,\n",
       "            min_impurity_decrease=0, min_impurity_split=None,\n",
       "            min_samples_leaf=18, min_samples_split=61,\n",
       "            min_weight_fraction_leaf=0.0, n_estimators=227, n_jobs=1,\n",
       "            oob_score=False, random_state=None, verbose=0,\n",
       "            warm_start=False)"
      ]
     },
     "execution_count": 172,
     "metadata": {},
     "output_type": "execute_result"
    }
   ],
   "source": [
    "#random forest (with selected best model parameters)\n",
    "rfr_clf_hp = RandomForestClassifier(**random_search_rf_clf.best_params_)\n",
    "\n",
    "#train model\n",
    "rfr_clf_hp.fit(Xc_train, yc_train)"
   ]
  },
  {
   "cell_type": "code",
   "execution_count": 173,
   "metadata": {},
   "outputs": [],
   "source": [
    "#Predict y on test data\n",
    "y_pred_rfr_clf_hp = rfr_clf_hp.predict(Xc_test)\n",
    "#print(y_pred_rfr)"
   ]
  },
  {
   "cell_type": "code",
   "execution_count": 174,
   "metadata": {},
   "outputs": [
    {
     "data": {
      "text/plain": [
       "SVC(C=1.9574692670022125, cache_size=200, class_weight=None, coef0=0.0,\n",
       "  decision_function_shape='ovr', degree=3, gamma='auto', kernel='rbf',\n",
       "  max_iter=-1, probability=False, random_state=None, shrinking=True,\n",
       "  tol=0.001, verbose=False)"
      ]
     },
     "execution_count": 174,
     "metadata": {},
     "output_type": "execute_result"
    }
   ],
   "source": [
    "#svm (with selected best model parameters)\n",
    "svm_clf_hp = SVC(**random_search_svm_clf.best_params_)\n",
    "\n",
    "#train model\n",
    "svm_clf_hp.fit(Xc_train, yc_train)"
   ]
  },
  {
   "cell_type": "code",
   "execution_count": 175,
   "metadata": {},
   "outputs": [],
   "source": [
    "#Predict y on test data\n",
    "y_pred_svc_hp = svm_clf_hp.predict(Xc_test)\n",
    "#print(y_pred_svr)"
   ]
  },
  {
   "cell_type": "code",
   "execution_count": 177,
   "metadata": {},
   "outputs": [
    {
     "name": "stdout",
     "output_type": "stream",
     "text": [
      "LogisticRegression 0.9698924731182795\n"
     ]
    },
    {
     "data": {
      "image/png": "[encoded data removed]",
      "text/plain": [
       "<Figure size 432x288 with 1 Axes>"
      ]
     },
     "metadata": {},
     "output_type": "display_data"
    },
    {
     "name": "stdout",
     "output_type": "stream",
     "text": [
      "RandomForestClassifier 0.964516129032258\n"
     ]
    },
    {
     "data": {
      "image/png": "[encoded data removed]",
      "text/plain": [
       "<Figure size 432x288 with 1 Axes>"
      ]
     },
     "metadata": {},
     "output_type": "display_data"
    },
    {
     "name": "stdout",
     "output_type": "stream",
     "text": [
      "SVC 0.9989247311827957\n"
     ]
    },
    {
     "data": {
      "image/png": "[encoded data removed]",
      "text/plain": [
       "<Figure size 432x288 with 1 Axes>"
      ]
     },
     "metadata": {},
     "output_type": "display_data"
    },
    {
     "name": "stdout",
     "output_type": "stream",
     "text": [
      "MLPClassifier 0.9924731182795699\n"
     ]
    },
    {
     "data": {
      "image/png": "[encoded data removed]",
      "text/plain": [
       "<Figure size 432x288 with 1 Axes>"
      ]
     },
     "metadata": {},
     "output_type": "display_data"
    }
   ],
   "source": [
    "for clf in (lr_clf, rfr_clf_hp, svm_clf_hp, mlp_clf_hp):\n",
    "    clf.fit(Xc_train, yc_train)\n",
    "    yc_pred = clf.predict(Xc_test)\n",
    "    print(clf.__class__.__name__, accuracy_score(yc_test, yc_pred))\n",
    "    #print(confusion_matrix(y_test, y_pred))\n",
    "    cm = confusion_matrix(yc_test, yc_pred)\n",
    "    plt.imshow(cm, interpolation='nearest', cmap=plt.cm.Pastel2)\n",
    "    classNames = ['M','A','L','I']\n",
    "    tick_marks = np.arange(len(classNames))\n",
    "    plt.xticks(tick_marks, classNames)\n",
    "    plt.yticks(tick_marks, classNames)\n",
    "    plt.ylabel('True')\n",
    "    plt.xlabel('Predicted')\n",
    "    for i in range(4):\n",
    "        for j in range(4):\n",
    "            plt.text(j, i, str(cm[i][j]))\n",
    "    plt.show()\n"
   ]
  },
  {
   "cell_type": "code",
   "execution_count": null,
   "metadata": {},
   "outputs": [],
   "source": []
  }
 ],
 "metadata": {
  "kernelspec": {
   "display_name": "Python 3",
   "language": "python",
   "name": "python3"
  },
  "language_info": {
   "codemirror_mode": {
    "name": "ipython",
    "version": 3
   },
   "file_extension": ".py",
   "mimetype": "text/x-python",
   "name": "python",
   "nbconvert_exporter": "python",
   "pygments_lexer": "ipython3",
   "version": "3.6.5"
  }
 },
 "nbformat": 4,
 "nbformat_minor": 2
}

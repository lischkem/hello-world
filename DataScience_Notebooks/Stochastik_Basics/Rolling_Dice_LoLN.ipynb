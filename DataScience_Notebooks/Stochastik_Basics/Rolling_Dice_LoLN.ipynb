{
 "cells": [
  {
   "cell_type": "code",
   "execution_count": 336,
   "metadata": {
    "collapsed": true
   },
   "outputs": [],
   "source": [
    "import matplotlib.pyplot as plt\n",
    "import random"
   ]
  },
  {
   "cell_type": "code",
   "execution_count": 346,
   "metadata": {
    "collapsed": false
   },
   "outputs": [],
   "source": [
    "sides = 6\n",
    "p = 1/6\n",
    "trials = 10000"
   ]
  },
  {
   "cell_type": "code",
   "execution_count": 347,
   "metadata": {
    "collapsed": false
   },
   "outputs": [
    {
     "name": "stdout",
     "output_type": "stream",
     "text": [
      "Count 6: 1666 Prob 6: 0.1666\n",
      "0.16514189492813766\n"
     ]
    },
    {
     "data": {
      "image/png": "[encoded data removed]",
      "text/plain": [
       "<matplotlib.figure.Figure at 0x2ab39965be0>"
      ]
     },
     "metadata": {},
     "output_type": "display_data"
    }
   ],
   "source": [
    "#clear Plot\n",
    "plt.clf()\n",
    "#counter for dice rolls with side 6\n",
    "counter = 0\n",
    "#roll_list contains results of dice rolls\n",
    "#prob_list contains probability for dice rolls with side 6 with increasing trials\n",
    "roll_list = []\n",
    "prob_list = []\n",
    "\n",
    "#for loop ranges from 1 to defined number of trials\n",
    "for i in range(1,trials):\n",
    "    #roll contains random number in the range (int) of 1 to 6\n",
    "    roll = random.randint(1,6)\n",
    "    #result of dice roll is added to list for all trials\n",
    "    roll_list.append(roll)\n",
    "    #if the side is 6 then take the counter+1\n",
    "    if roll == 6:\n",
    "        counter = counter+1\n",
    "    #the probability to roll a 6 is added to the list for every trial\n",
    "    prob_list.append(counter/i)\n",
    "\n",
    "#print(roll_list)\n",
    "\n",
    "print('Count 6: ' + str(counter) +' Prob 6: '+ str(counter/trials))\n",
    "#print the average probability to roll a dice with side 6\n",
    "print(sum(prob_list)/len(prob_list))\n",
    "\n",
    "#plot the probability vs trials\n",
    "plt.plot(prob_list)\n",
    "plt.axhline(y=p,color='r',linestyle='-')\n",
    "plt.ylim((0,0.3))\n",
    "plt.ylabel('probability')\n",
    "plt.xlabel('trials')\n",
    "\n",
    "plt.show()"
   ]
  },
  {
   "cell_type": "code",
   "execution_count": null,
   "metadata": {
    "collapsed": false
   },
   "outputs": [],
   "source": []
  },
  {
   "cell_type": "code",
   "execution_count": null,
   "metadata": {
    "collapsed": true
   },
   "outputs": [],
   "source": []
  }
 ],
 "metadata": {
  "kernelspec": {
   "display_name": "Python 3",
   "language": "python",
   "name": "python3"
  },
  "language_info": {
   "codemirror_mode": {
    "name": "ipython",
    "version": 3
   },
   "file_extension": ".py",
   "mimetype": "text/x-python",
   "name": "python",
   "nbconvert_exporter": "python",
   "pygments_lexer": "ipython3",
   "version": "3.6.0"
  }
 },
 "nbformat": 4,
 "nbformat_minor": 2
}
